{
 "cells": [
  {
   "cell_type": "code",
   "execution_count": 2,
   "metadata": {},
   "outputs": [
    {
     "name": "stderr",
     "output_type": "stream",
     "text": [
      "/Users/peterkong/miniconda3/lib/python3.6/importlib/_bootstrap.py:219: RuntimeWarning: numpy.dtype size changed, may indicate binary incompatibility. Expected 96, got 88\n",
      "  return f(*args, **kwds)\n"
     ]
    }
   ],
   "source": [
    "import pandas as pd\n",
    "import json\n",
    "from pandas.io.json import json_normalize"
   ]
  },
  {
   "cell_type": "code",
   "execution_count": 3,
   "metadata": {},
   "outputs": [],
   "source": [
    "def load_df(csv_path, nrows=None):\n",
    "    JSON_COLUMNS = ['device', 'geoNetwork', 'totals', 'trafficSource']\n",
    "    \n",
    "    df = pd.read_csv(csv_path, \n",
    "                     converters={column: json.loads for column in JSON_COLUMNS}, \n",
    "                     dtype={'fullVisitorId': 'str'}, # Important!!\n",
    "                     nrows=nrows)\n",
    "    \n",
    "    for column in JSON_COLUMNS:\n",
    "        column_as_df = json_normalize(df[column])\n",
    "        column_as_df.columns = [f\"{column}.{subcolumn}\" for subcolumn in column_as_df.columns]\n",
    "        df = df.drop(column, axis=1).merge(column_as_df, right_index=True, left_index=True)\n",
    "\n",
    "    return df"
   ]
  },
  {
   "cell_type": "code",
   "execution_count": 34,
   "metadata": {},
   "outputs": [
    {
     "data": {
      "text/plain": [
       "0         {'browser': 'Chrome', 'browserVersion': 'not a...\n",
       "1         {'browser': 'Firefox', 'browserVersion': 'not ...\n",
       "2         {'browser': 'Chrome', 'browserVersion': 'not a...\n",
       "3         {'browser': 'UC Browser', 'browserVersion': 'n...\n",
       "4         {'browser': 'Chrome', 'browserVersion': 'not a...\n",
       "5         {'browser': 'Chrome', 'browserVersion': 'not a...\n",
       "6         {'browser': 'Chrome', 'browserVersion': 'not a...\n",
       "7         {'browser': 'Chrome', 'browserVersion': 'not a...\n",
       "8         {'browser': 'Internet Explorer', 'browserVersi...\n",
       "9         {'browser': 'Firefox', 'browserVersion': 'not ...\n",
       "10        {'browser': 'Chrome', 'browserVersion': 'not a...\n",
       "11        {'browser': 'Safari', 'browserVersion': 'not a...\n",
       "12        {'browser': 'Safari', 'browserVersion': 'not a...\n",
       "13        {'browser': 'Safari', 'browserVersion': 'not a...\n",
       "14        {'browser': 'Chrome', 'browserVersion': 'not a...\n",
       "15        {'browser': 'Chrome', 'browserVersion': 'not a...\n",
       "16        {'browser': 'Chrome', 'browserVersion': 'not a...\n",
       "17        {'browser': 'Internet Explorer', 'browserVersi...\n",
       "18        {'browser': 'Chrome', 'browserVersion': 'not a...\n",
       "19        {'browser': 'Chrome', 'browserVersion': 'not a...\n",
       "20        {'browser': 'Chrome', 'browserVersion': 'not a...\n",
       "21        {'browser': 'Chrome', 'browserVersion': 'not a...\n",
       "22        {'browser': 'Safari', 'browserVersion': 'not a...\n",
       "23        {'browser': 'Chrome', 'browserVersion': 'not a...\n",
       "24        {'browser': 'Chrome', 'browserVersion': 'not a...\n",
       "25        {'browser': 'Internet Explorer', 'browserVersi...\n",
       "26        {'browser': 'Firefox', 'browserVersion': 'not ...\n",
       "27        {'browser': 'Safari', 'browserVersion': 'not a...\n",
       "28        {'browser': 'Chrome', 'browserVersion': 'not a...\n",
       "29        {'browser': 'Chrome', 'browserVersion': 'not a...\n",
       "                                ...                        \n",
       "903623    {'browser': 'Chrome', 'browserVersion': 'not a...\n",
       "903624    {'browser': 'Chrome', 'browserVersion': 'not a...\n",
       "903625    {'browser': 'Firefox', 'browserVersion': 'not ...\n",
       "903626    {'browser': 'Chrome', 'browserVersion': 'not a...\n",
       "903627    {'browser': 'Safari', 'browserVersion': 'not a...\n",
       "903628    {'browser': 'Chrome', 'browserVersion': 'not a...\n",
       "903629    {'browser': 'Chrome', 'browserVersion': 'not a...\n",
       "903630    {'browser': 'Chrome', 'browserVersion': 'not a...\n",
       "903631    {'browser': 'Chrome', 'browserVersion': 'not a...\n",
       "903632    {'browser': 'Opera Mini', 'browserVersion': 'n...\n",
       "903633    {'browser': 'Chrome', 'browserVersion': 'not a...\n",
       "903634    {'browser': 'Chrome', 'browserVersion': 'not a...\n",
       "903635    {'browser': 'Chrome', 'browserVersion': 'not a...\n",
       "903636    {'browser': 'Chrome', 'browserVersion': 'not a...\n",
       "903637    {'browser': 'Chrome', 'browserVersion': 'not a...\n",
       "903638    {'browser': 'Chrome', 'browserVersion': 'not a...\n",
       "903639    {'browser': 'Chrome', 'browserVersion': 'not a...\n",
       "903640    {'browser': 'Safari', 'browserVersion': 'not a...\n",
       "903641    {'browser': 'Chrome', 'browserVersion': 'not a...\n",
       "903642    {'browser': 'Internet Explorer', 'browserVersi...\n",
       "903643    {'browser': 'Chrome', 'browserVersion': 'not a...\n",
       "903644    {'browser': 'Chrome', 'browserVersion': 'not a...\n",
       "903645    {'browser': 'Safari (in-app)', 'browserVersion...\n",
       "903646    {'browser': 'Chrome', 'browserVersion': 'not a...\n",
       "903647    {'browser': 'Chrome', 'browserVersion': 'not a...\n",
       "903648    {'browser': 'Chrome', 'browserVersion': 'not a...\n",
       "903649    {'browser': 'Chrome', 'browserVersion': 'not a...\n",
       "903650    {'browser': 'Android Webview', 'browserVersion...\n",
       "903651    {'browser': 'Chrome', 'browserVersion': 'not a...\n",
       "903652    {'browser': 'Chrome', 'browserVersion': 'not a...\n",
       "Name: device.device, Length: 903653, dtype: object"
      ]
     },
     "execution_count": 34,
     "metadata": {},
     "output_type": "execute_result"
    }
   ],
   "source": [
    "#test = load_df('data/train.csv')\n",
    "test['device.device']"
   ]
  },
  {
   "cell_type": "code",
   "execution_count": 15,
   "metadata": {},
   "outputs": [],
   "source": [
    "# make read pickle here\n",
    "# import pickle\n",
    "# pickle.dump(train,open(\"train.pickle\",\"wb\"))"
   ]
  },
  {
   "cell_type": "code",
   "execution_count": 22,
   "metadata": {},
   "outputs": [
    {
     "data": {
      "text/plain": [
       "(903653, 25)"
      ]
     },
     "execution_count": 22,
     "metadata": {},
     "output_type": "execute_result"
    }
   ],
   "source": [
    "train = pd.read_pickle('train.pickle')\n",
    "train.shape"
   ]
  },
  {
   "cell_type": "code",
   "execution_count": 36,
   "metadata": {},
   "outputs": [
    {
     "data": {
      "text/plain": [
       "dtype('O')"
      ]
     },
     "execution_count": 36,
     "metadata": {},
     "output_type": "execute_result"
    }
   ],
   "source": [
    "train['device.device'].dtype"
   ]
  },
  {
   "cell_type": "code",
   "execution_count": 28,
   "metadata": {
    "scrolled": true
   },
   "outputs": [
    {
     "name": "stdout",
     "output_type": "stream",
     "text": [
      "channelGrouping\n",
      "date\n",
      "fullVisitorId\n",
      "sessionId\n",
      "visitId\n",
      "visitNumber\n",
      "visitStartTime\n",
      "device.device\n"
     ]
    },
    {
     "ename": "TypeError",
     "evalue": "unhashable type: 'dict'",
     "output_type": "error",
     "traceback": [
      "\u001b[0;31m---------------------------------------------------------------------------\u001b[0m",
      "\u001b[0;31mTypeError\u001b[0m                                 Traceback (most recent call last)",
      "\u001b[0;32m<ipython-input-28-90e2012f7005>\u001b[0m in \u001b[0;36m<module>\u001b[0;34m()\u001b[0m\n\u001b[1;32m     26\u001b[0m \u001b[0;32mfor\u001b[0m \u001b[0mcol\u001b[0m \u001b[0;32min\u001b[0m \u001b[0mtrain\u001b[0m\u001b[0;34m.\u001b[0m\u001b[0mcolumns\u001b[0m\u001b[0;34m:\u001b[0m\u001b[0;34m\u001b[0m\u001b[0m\n\u001b[1;32m     27\u001b[0m     \u001b[0mprint\u001b[0m\u001b[0;34m(\u001b[0m\u001b[0mcol\u001b[0m\u001b[0;34m)\u001b[0m\u001b[0;34m\u001b[0m\u001b[0m\n\u001b[0;32m---> 28\u001b[0;31m     \u001b[0;32mif\u001b[0m \u001b[0mlen\u001b[0m\u001b[0;34m(\u001b[0m\u001b[0mtrain\u001b[0m\u001b[0;34m[\u001b[0m\u001b[0mcol\u001b[0m\u001b[0;34m]\u001b[0m\u001b[0;34m.\u001b[0m\u001b[0munique\u001b[0m\u001b[0;34m(\u001b[0m\u001b[0;34m)\u001b[0m\u001b[0;34m)\u001b[0m \u001b[0;34m<\u001b[0m \u001b[0;36m2\u001b[0m\u001b[0;34m:\u001b[0m\u001b[0;34m\u001b[0m\u001b[0m\n\u001b[0m\u001b[1;32m     29\u001b[0m         \u001b[0mtrain\u001b[0m\u001b[0;34m.\u001b[0m\u001b[0mdrop\u001b[0m\u001b[0;34m(\u001b[0m\u001b[0mcol\u001b[0m\u001b[0;34m,\u001b[0m \u001b[0maxis\u001b[0m\u001b[0;34m=\u001b[0m\u001b[0;36m1\u001b[0m\u001b[0;34m,\u001b[0m \u001b[0minplace\u001b[0m\u001b[0;34m=\u001b[0m\u001b[0;32mTrue\u001b[0m\u001b[0;34m)\u001b[0m\u001b[0;34m\u001b[0m\u001b[0m\n\u001b[1;32m     30\u001b[0m         \u001b[0mprint\u001b[0m\u001b[0;34m(\u001b[0m\u001b[0;34m\"dropping \"\u001b[0m \u001b[0;34m+\u001b[0m \u001b[0mcol\u001b[0m\u001b[0;34m)\u001b[0m\u001b[0;34m\u001b[0m\u001b[0m\n",
      "\u001b[0;32m~/miniconda3/lib/python3.6/site-packages/pandas/core/series.py\u001b[0m in \u001b[0;36munique\u001b[0;34m(self)\u001b[0m\n\u001b[1;32m   1281\u001b[0m     \u001b[0;34m@\u001b[0m\u001b[0mAppender\u001b[0m\u001b[0;34m(\u001b[0m\u001b[0mbase\u001b[0m\u001b[0;34m.\u001b[0m\u001b[0m_shared_docs\u001b[0m\u001b[0;34m[\u001b[0m\u001b[0;34m'unique'\u001b[0m\u001b[0;34m]\u001b[0m \u001b[0;34m%\u001b[0m \u001b[0m_shared_doc_kwargs\u001b[0m\u001b[0;34m)\u001b[0m\u001b[0;34m\u001b[0m\u001b[0m\n\u001b[1;32m   1282\u001b[0m     \u001b[0;32mdef\u001b[0m \u001b[0munique\u001b[0m\u001b[0;34m(\u001b[0m\u001b[0mself\u001b[0m\u001b[0;34m)\u001b[0m\u001b[0;34m:\u001b[0m\u001b[0;34m\u001b[0m\u001b[0m\n\u001b[0;32m-> 1283\u001b[0;31m         \u001b[0mresult\u001b[0m \u001b[0;34m=\u001b[0m \u001b[0msuper\u001b[0m\u001b[0;34m(\u001b[0m\u001b[0mSeries\u001b[0m\u001b[0;34m,\u001b[0m \u001b[0mself\u001b[0m\u001b[0;34m)\u001b[0m\u001b[0;34m.\u001b[0m\u001b[0munique\u001b[0m\u001b[0;34m(\u001b[0m\u001b[0;34m)\u001b[0m\u001b[0;34m\u001b[0m\u001b[0m\n\u001b[0m\u001b[1;32m   1284\u001b[0m \u001b[0;34m\u001b[0m\u001b[0m\n\u001b[1;32m   1285\u001b[0m         \u001b[0;32mif\u001b[0m \u001b[0mis_datetime64tz_dtype\u001b[0m\u001b[0;34m(\u001b[0m\u001b[0mself\u001b[0m\u001b[0;34m.\u001b[0m\u001b[0mdtype\u001b[0m\u001b[0;34m)\u001b[0m\u001b[0;34m:\u001b[0m\u001b[0;34m\u001b[0m\u001b[0m\n",
      "\u001b[0;32m~/miniconda3/lib/python3.6/site-packages/pandas/core/base.py\u001b[0m in \u001b[0;36munique\u001b[0;34m(self)\u001b[0m\n\u001b[1;32m    903\u001b[0m         \u001b[0;32melse\u001b[0m\u001b[0;34m:\u001b[0m\u001b[0;34m\u001b[0m\u001b[0m\n\u001b[1;32m    904\u001b[0m             \u001b[0;32mfrom\u001b[0m \u001b[0mpandas\u001b[0m\u001b[0;34m.\u001b[0m\u001b[0mcore\u001b[0m\u001b[0;34m.\u001b[0m\u001b[0malgorithms\u001b[0m \u001b[0;32mimport\u001b[0m \u001b[0munique1d\u001b[0m\u001b[0;34m\u001b[0m\u001b[0m\n\u001b[0;32m--> 905\u001b[0;31m             \u001b[0mresult\u001b[0m \u001b[0;34m=\u001b[0m \u001b[0munique1d\u001b[0m\u001b[0;34m(\u001b[0m\u001b[0mvalues\u001b[0m\u001b[0;34m)\u001b[0m\u001b[0;34m\u001b[0m\u001b[0m\n\u001b[0m\u001b[1;32m    906\u001b[0m \u001b[0;34m\u001b[0m\u001b[0m\n\u001b[1;32m    907\u001b[0m         \u001b[0;32mreturn\u001b[0m \u001b[0mresult\u001b[0m\u001b[0;34m\u001b[0m\u001b[0m\n",
      "\u001b[0;32m~/miniconda3/lib/python3.6/site-packages/pandas/core/algorithms.py\u001b[0m in \u001b[0;36munique\u001b[0;34m(values)\u001b[0m\n\u001b[1;32m    362\u001b[0m \u001b[0;34m\u001b[0m\u001b[0m\n\u001b[1;32m    363\u001b[0m     \u001b[0mtable\u001b[0m \u001b[0;34m=\u001b[0m \u001b[0mhtable\u001b[0m\u001b[0;34m(\u001b[0m\u001b[0mlen\u001b[0m\u001b[0;34m(\u001b[0m\u001b[0mvalues\u001b[0m\u001b[0;34m)\u001b[0m\u001b[0;34m)\u001b[0m\u001b[0;34m\u001b[0m\u001b[0m\n\u001b[0;32m--> 364\u001b[0;31m     \u001b[0muniques\u001b[0m \u001b[0;34m=\u001b[0m \u001b[0mtable\u001b[0m\u001b[0;34m.\u001b[0m\u001b[0munique\u001b[0m\u001b[0;34m(\u001b[0m\u001b[0mvalues\u001b[0m\u001b[0;34m)\u001b[0m\u001b[0;34m\u001b[0m\u001b[0m\n\u001b[0m\u001b[1;32m    365\u001b[0m     \u001b[0muniques\u001b[0m \u001b[0;34m=\u001b[0m \u001b[0m_reconstruct_data\u001b[0m\u001b[0;34m(\u001b[0m\u001b[0muniques\u001b[0m\u001b[0;34m,\u001b[0m \u001b[0mdtype\u001b[0m\u001b[0;34m,\u001b[0m \u001b[0moriginal\u001b[0m\u001b[0;34m)\u001b[0m\u001b[0;34m\u001b[0m\u001b[0m\n\u001b[1;32m    366\u001b[0m \u001b[0;34m\u001b[0m\u001b[0m\n",
      "\u001b[0;32mpandas/_libs/hashtable_class_helper.pxi\u001b[0m in \u001b[0;36mpandas._libs.hashtable.PyObjectHashTable.unique\u001b[0;34m()\u001b[0m\n",
      "\u001b[0;31mTypeError\u001b[0m: unhashable type: 'dict'"
     ]
    }
   ],
   "source": [
    "# dropping single-valued columns\n",
    "# note that nunique() will assign value of '1' to columns\n",
    "# which have 1 value + NaNs, so nunique will yield \n",
    "# false positives\n",
    "\n",
    "# dropping socialEngagementType\n",
    "# dropping device.browserSize\n",
    "# dropping device.browserVersion\n",
    "# dropping device.flashVersion\n",
    "# dropping device.language\n",
    "# dropping device.mobileDeviceBranding\n",
    "# dropping device.mobileDeviceInfo\n",
    "# dropping device.mobileDeviceMarketingName\n",
    "# dropping device.mobileDeviceModel\n",
    "# dropping device.mobileInputSelector\n",
    "# dropping device.operatingSystemVersion\n",
    "# dropping device.screenColors\n",
    "# dropping device.screenResolution\n",
    "# dropping geoNetwork.cityId\n",
    "# dropping geoNetwork.latitude\n",
    "# dropping geoNetwork.longitude\n",
    "# dropping geoNetwork.networkLocation\n",
    "# dropping totals.visits\n",
    "# dropping trafficSource.adwordsClickInfo.criteriaParameters\n",
    "\n",
    "for col in train.columns:\n",
    "    print(col)\n",
    "    if len(train[col].unique()) < 2:\n",
    "        train.drop(col, axis=1, inplace=True)\n",
    "        print(\"dropping \" + col)"
   ]
  },
  {
   "cell_type": "code",
   "execution_count": null,
   "metadata": {},
   "outputs": [],
   "source": [
    "#train.dtypes"
   ]
  },
  {
   "cell_type": "code",
   "execution_count": null,
   "metadata": {},
   "outputs": [],
   "source": [
    "tmp = train['trafficSource.keyword'].apply(type).value_counts(dropna=False)\n",
    "tmp"
   ]
  },
  {
   "cell_type": "code",
   "execution_count": 11,
   "metadata": {},
   "outputs": [
    {
     "name": "stdout",
     "output_type": "stream",
     "text": [
      "channelGrouping <class 'str'>    903653\n",
      "Name: channelGrouping, dtype: int64\n",
      "\n",
      "date <class 'int'>    903653\n",
      "Name: date, dtype: int64\n",
      "\n",
      "fullVisitorId <class 'str'>    903653\n",
      "Name: fullVisitorId, dtype: int64\n",
      "\n",
      "sessionId <class 'str'>    903653\n",
      "Name: sessionId, dtype: int64\n",
      "\n",
      "visitId <class 'int'>    903653\n",
      "Name: visitId, dtype: int64\n",
      "\n",
      "visitNumber <class 'int'>    903653\n",
      "Name: visitNumber, dtype: int64\n",
      "\n",
      "visitStartTime <class 'int'>    903653\n",
      "Name: visitStartTime, dtype: int64\n",
      "\n",
      "device.browser <class 'str'>    903653\n",
      "Name: device.browser, dtype: int64\n",
      "\n",
      "device.deviceCategory <class 'str'>    903653\n",
      "Name: device.deviceCategory, dtype: int64\n",
      "\n",
      "device.isMobile <class 'bool'>    903653\n",
      "Name: device.isMobile, dtype: int64\n",
      "\n",
      "device.operatingSystem <class 'str'>    903653\n",
      "Name: device.operatingSystem, dtype: int64\n",
      "\n",
      "geoNetwork.city <class 'str'>    903653\n",
      "Name: geoNetwork.city, dtype: int64\n",
      "\n",
      "geoNetwork.continent <class 'str'>    903653\n",
      "Name: geoNetwork.continent, dtype: int64\n",
      "\n",
      "geoNetwork.country <class 'str'>    903653\n",
      "Name: geoNetwork.country, dtype: int64\n",
      "\n",
      "geoNetwork.metro <class 'str'>    903653\n",
      "Name: geoNetwork.metro, dtype: int64\n",
      "\n",
      "geoNetwork.networkDomain <class 'str'>    903653\n",
      "Name: geoNetwork.networkDomain, dtype: int64\n",
      "\n",
      "geoNetwork.region <class 'str'>    903653\n",
      "Name: geoNetwork.region, dtype: int64\n",
      "\n",
      "geoNetwork.subContinent <class 'str'>    903653\n",
      "Name: geoNetwork.subContinent, dtype: int64\n",
      "\n",
      "totals.bounces <class 'float'>    453023\n",
      "<class 'str'>      450630\n",
      "Name: totals.bounces, dtype: int64\n",
      "\n",
      "totals.hits <class 'str'>    903653\n",
      "Name: totals.hits, dtype: int64\n",
      "\n",
      "totals.newVisits <class 'str'>      703060\n",
      "<class 'float'>    200593\n",
      "Name: totals.newVisits, dtype: int64\n",
      "\n",
      "totals.pageviews <class 'str'>      903553\n",
      "<class 'float'>       100\n",
      "Name: totals.pageviews, dtype: int64\n",
      "\n",
      "totals.transactionRevenue <class 'float'>    892138\n",
      "<class 'str'>       11515\n",
      "Name: totals.transactionRevenue, dtype: int64\n",
      "\n",
      "trafficSource.adContent <class 'float'>    892707\n",
      "<class 'str'>       10946\n",
      "Name: trafficSource.adContent, dtype: int64\n",
      "\n",
      "trafficSource.adwordsClickInfo.adNetworkType <class 'float'>    882193\n",
      "<class 'str'>       21460\n",
      "Name: trafficSource.adwordsClickInfo.adNetworkType, dtype: int64\n",
      "\n",
      "trafficSource.adwordsClickInfo.gclId <class 'float'>    882092\n",
      "<class 'str'>       21561\n",
      "Name: trafficSource.adwordsClickInfo.gclId, dtype: int64\n",
      "\n",
      "trafficSource.adwordsClickInfo.isVideoAd <class 'float'>    882193\n",
      "<class 'bool'>      21460\n",
      "Name: trafficSource.adwordsClickInfo.isVideoAd, dtype: int64\n",
      "\n",
      "trafficSource.adwordsClickInfo.page <class 'float'>    882193\n",
      "<class 'str'>       21460\n",
      "Name: trafficSource.adwordsClickInfo.page, dtype: int64\n",
      "\n",
      "trafficSource.adwordsClickInfo.slot <class 'float'>    882193\n",
      "<class 'str'>       21460\n",
      "Name: trafficSource.adwordsClickInfo.slot, dtype: int64\n",
      "\n",
      "trafficSource.campaign <class 'str'>    903653\n",
      "Name: trafficSource.campaign, dtype: int64\n",
      "\n",
      "trafficSource.campaignCode <class 'float'>    903652\n",
      "<class 'str'>           1\n",
      "Name: trafficSource.campaignCode, dtype: int64\n",
      "\n",
      "trafficSource.isTrueDirect <class 'float'>    629648\n",
      "<class 'bool'>     274005\n",
      "Name: trafficSource.isTrueDirect, dtype: int64\n",
      "\n",
      "trafficSource.keyword <class 'float'>    502929\n",
      "<class 'str'>      400724\n",
      "Name: trafficSource.keyword, dtype: int64\n",
      "\n",
      "trafficSource.medium <class 'str'>    903653\n",
      "Name: trafficSource.medium, dtype: int64\n",
      "\n",
      "trafficSource.referralPath <class 'float'>    572712\n",
      "<class 'str'>      330941\n",
      "Name: trafficSource.referralPath, dtype: int64\n",
      "\n",
      "trafficSource.source <class 'str'>    903653\n",
      "Name: trafficSource.source, dtype: int64\n",
      "\n"
     ]
    }
   ],
   "source": [
    "\n",
    "def col_type_counts(df):\n",
    "    col_types = {}\n",
    "    for col in df.columns:\n",
    "        col_types[col] = df[col].apply(type).value_counts()\n",
    "    return col_types\n",
    "\n",
    "cols = col_type_counts(train)\n",
    "for key in cols.keys():\n",
    "    print(\"{} {}\\n\".format(key, cols[key]))\n"
   ]
  },
  {
   "cell_type": "code",
   "execution_count": 1,
   "metadata": {},
   "outputs": [],
   "source": [
    "# xaction_rev_df = train['totals.transactionRevenue'].to_frame()#\n",
    "# xaction_rev_df.select_dtypes(exclude=['float'])"
   ]
  },
  {
   "cell_type": "code",
   "execution_count": 49,
   "metadata": {},
   "outputs": [],
   "source": [
    "# train_df[\"totals.transactionRevenue\"] = train_df[\"totals.transactionRevenue\"].astype('float')\n",
    "# gdf = train_df.groupby(\"fullVisitorId\")[\"totals.transactionRevenue\"].sum().reset_index()\n",
    "\n",
    "# plt.figure(figsize=(8,6))\n",
    "# plt.scatter(range(gdf.shape[0]), np.sort(np.log1p(gdf[\"totals.transactionRevenue\"].values)))\n",
    "# plt.xlabel('index', fontsize=12)\n",
    "# plt.ylabel('TransactionRevenue', fontsize=12)\n",
    "# plt.show()"
   ]
  },
  {
   "cell_type": "code",
   "execution_count": 27,
   "metadata": {},
   "outputs": [
    {
     "data": {
      "text/html": [
       "<div>\n",
       "<style scoped>\n",
       "    .dataframe tbody tr th:only-of-type {\n",
       "        vertical-align: middle;\n",
       "    }\n",
       "\n",
       "    .dataframe tbody tr th {\n",
       "        vertical-align: top;\n",
       "    }\n",
       "\n",
       "    .dataframe thead th {\n",
       "        text-align: right;\n",
       "    }\n",
       "</style>\n",
       "<table border=\"1\" class=\"dataframe\">\n",
       "  <thead>\n",
       "    <tr style=\"text-align: right;\">\n",
       "      <th></th>\n",
       "      <th>channelGrouping</th>\n",
       "      <th>date</th>\n",
       "      <th>fullVisitorId</th>\n",
       "      <th>sessionId</th>\n",
       "      <th>visitId</th>\n",
       "      <th>visitNumber</th>\n",
       "      <th>visitStartTime</th>\n",
       "      <th>device.browser</th>\n",
       "      <th>device.deviceCategory</th>\n",
       "      <th>device.isMobile</th>\n",
       "      <th>...</th>\n",
       "      <th>trafficSource.adContent</th>\n",
       "      <th>trafficSource.adwordsClickInfo.adNetworkType</th>\n",
       "      <th>trafficSource.adwordsClickInfo.gclId</th>\n",
       "      <th>trafficSource.adwordsClickInfo.page</th>\n",
       "      <th>trafficSource.adwordsClickInfo.slot</th>\n",
       "      <th>trafficSource.campaign</th>\n",
       "      <th>trafficSource.keyword</th>\n",
       "      <th>trafficSource.medium</th>\n",
       "      <th>trafficSource.referralPath</th>\n",
       "      <th>trafficSource.source</th>\n",
       "    </tr>\n",
       "  </thead>\n",
       "  <tbody>\n",
       "    <tr>\n",
       "      <th>0</th>\n",
       "      <td>Organic Search</td>\n",
       "      <td>20160902</td>\n",
       "      <td>1131660440785968503</td>\n",
       "      <td>1131660440785968503_1472830385</td>\n",
       "      <td>1472830385</td>\n",
       "      <td>1</td>\n",
       "      <td>1472830385</td>\n",
       "      <td>Chrome</td>\n",
       "      <td>desktop</td>\n",
       "      <td>False</td>\n",
       "      <td>...</td>\n",
       "      <td>NaN</td>\n",
       "      <td>NaN</td>\n",
       "      <td>NaN</td>\n",
       "      <td>NaN</td>\n",
       "      <td>NaN</td>\n",
       "      <td>(not set)</td>\n",
       "      <td>(not provided)</td>\n",
       "      <td>organic</td>\n",
       "      <td>NaN</td>\n",
       "      <td>google</td>\n",
       "    </tr>\n",
       "  </tbody>\n",
       "</table>\n",
       "<p>1 rows × 31 columns</p>\n",
       "</div>"
      ],
      "text/plain": [
       "  channelGrouping      date        fullVisitorId  \\\n",
       "0  Organic Search  20160902  1131660440785968503   \n",
       "\n",
       "                        sessionId     visitId  visitNumber  visitStartTime  \\\n",
       "0  1131660440785968503_1472830385  1472830385            1      1472830385   \n",
       "\n",
       "  device.browser device.deviceCategory  device.isMobile         ...           \\\n",
       "0         Chrome               desktop            False         ...            \n",
       "\n",
       "  trafficSource.adContent trafficSource.adwordsClickInfo.adNetworkType  \\\n",
       "0                     NaN                                          NaN   \n",
       "\n",
       "  trafficSource.adwordsClickInfo.gclId trafficSource.adwordsClickInfo.page  \\\n",
       "0                                  NaN                                 NaN   \n",
       "\n",
       "  trafficSource.adwordsClickInfo.slot trafficSource.campaign  \\\n",
       "0                                 NaN              (not set)   \n",
       "\n",
       "  trafficSource.keyword trafficSource.medium trafficSource.referralPath  \\\n",
       "0        (not provided)              organic                        NaN   \n",
       "\n",
       "  trafficSource.source  \n",
       "0               google  \n",
       "\n",
       "[1 rows x 31 columns]"
      ]
     },
     "execution_count": 27,
     "metadata": {},
     "output_type": "execute_result"
    }
   ],
   "source": [
    "# The main types stored in pandas objects are float, int, bool, \n",
    "# datetime64[ns] and datetime64[ns, tz], timedelta[ns], category and object.\n",
    "\n",
    "channelGrouping -> string\n",
    "date -> date\n",
    "bounces -> manual, nan, 1\n",
    "totals.hits -> int64\n",
    "totals.newVisits -> manual array(['1', nan], dtype=object)\n",
    "totals.pageviews -> int64\n",
    "totals.transactionRevenue -> nan + ints -> int64\n",
    "trafficSource.adConcent -> float, string 0> float\n",
    "trafficSource.adwordsClickInfo.adNetworkType -> float\n",
    "trafficSource.adwordsClickInfo.gclId -> float\n",
    "trafficSource.adwordsClickInfo.isVideoAd -> bool (inspect)\n",
    "\n",
    "\n",
    "\n"
   ]
  },
  {
   "cell_type": "code",
   "execution_count": 30,
   "metadata": {},
   "outputs": [
    {
     "data": {
      "text/plain": [
       "Index(['channelGrouping', 'date', 'fullVisitorId', 'sessionId', 'visitId',\n",
       "       'visitNumber', 'visitStartTime', 'device.browser',\n",
       "       'device.deviceCategory', 'device.isMobile', 'device.operatingSystem',\n",
       "       'geoNetwork.city', 'geoNetwork.continent', 'geoNetwork.country',\n",
       "       'geoNetwork.metro', 'geoNetwork.networkDomain', 'geoNetwork.region',\n",
       "       'geoNetwork.subContinent', 'totals.hits', 'totals.pageviews',\n",
       "       'totals.transactionRevenue', 'trafficSource.adContent',\n",
       "       'trafficSource.adwordsClickInfo.adNetworkType',\n",
       "       'trafficSource.adwordsClickInfo.gclId',\n",
       "       'trafficSource.adwordsClickInfo.page',\n",
       "       'trafficSource.adwordsClickInfo.slot', 'trafficSource.campaign',\n",
       "       'trafficSource.keyword', 'trafficSource.medium',\n",
       "       'trafficSource.referralPath', 'trafficSource.source'],\n",
       "      dtype='object')"
      ]
     },
     "execution_count": 30,
     "metadata": {},
     "output_type": "execute_result"
    }
   ],
   "source": [
    "train.columns"
   ]
  },
  {
   "cell_type": "code",
   "execution_count": null,
   "metadata": {},
   "outputs": [],
   "source": []
  }
 ],
 "metadata": {
  "kernelspec": {
   "display_name": "Python 3",
   "language": "python",
   "name": "python3"
  },
  "language_info": {
   "codemirror_mode": {
    "name": "ipython",
    "version": 3
   },
   "file_extension": ".py",
   "mimetype": "text/x-python",
   "name": "python",
   "nbconvert_exporter": "python",
   "pygments_lexer": "ipython3",
   "version": "3.6.3"
  }
 },
 "nbformat": 4,
 "nbformat_minor": 2
}
